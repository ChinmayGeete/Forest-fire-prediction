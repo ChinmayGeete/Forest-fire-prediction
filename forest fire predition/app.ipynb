{
 "cells": [
  {
   "cell_type": "code",
   "execution_count": 34,
   "metadata": {},
   "outputs": [],
   "source": [
    "from flask import Flask,request, url_for, redirect, render_template\n",
    "import pickle\n",
    "import numpy as np\n"
   ]
  },
  {
   "cell_type": "code",
   "execution_count": 35,
   "metadata": {},
   "outputs": [],
   "source": [
    "app = Flask(__name__)"
   ]
  },
  {
   "cell_type": "code",
   "execution_count": 36,
   "metadata": {},
   "outputs": [],
   "source": [
    "model=pickle.load(open('model.pkl','rb'))"
   ]
  },
  {
   "cell_type": "code",
   "execution_count": 37,
   "metadata": {},
   "outputs": [],
   "source": [
    "@app.route('/')\n",
    "def hello_world():\n",
    "    return render_template(\"forest_fire.html\")"
   ]
  },
  {
   "cell_type": "code",
   "execution_count": 38,
   "metadata": {},
   "outputs": [],
   "source": [
    "@app.route('/predict',methods=['POST','GET'])\n",
    "def predict():\n",
    "    int_features=[int(x) for x in request.form.values()]\n",
    "    final=[np.array(int_features)]\n",
    "    print(int_features)\n",
    "    print(final)\n",
    "    prediction=model.predict_proba(final)\n",
    "    output='{0:.{1}f}'.format(prediction[0][1], 2)\n",
    "    if output>str(0.5):\n",
    "        return render_template('forest_fire.html',pred='Your Forest is in Danger.\\nProbability of fire occuring is {}'.format(output))\n",
    "    else:\n",
    "        return render_template('forest_fire.html',pred='Your Forest is safe.\\n Probability of fire occuring is {}'.format(output))\n",
    "\n",
    "\n",
    "\n",
    "\n",
    "\n"
   ]
  },
  {
   "cell_type": "code",
   "execution_count": null,
   "metadata": {},
   "outputs": [
    {
     "name": "stdout",
     "output_type": "stream",
     "text": [
      " * Serving Flask app \"__main__\" (lazy loading)\n",
      " * Environment: production\n",
      "   WARNING: This is a development server. Do not use it in a production deployment.\n",
      "   Use a production WSGI server instead.\n",
      " * Debug mode: on\n"
     ]
    },
    {
     "name": "stderr",
     "output_type": "stream",
     "text": [
      " * Running on http://127.0.0.1:5000/ (Press CTRL+C to quit)\n",
      "127.0.0.1 - - [29/Mar/2020 12:25:07] \"GET / HTTP/1.1\" 200 -\n",
      "127.0.0.1 - - [29/Mar/2020 12:25:08] \"GET /.js/materialize.js HTTP/1.1\" 404 -\n",
      "127.0.0.1 - - [29/Mar/2020 12:25:08] \"GET /js/init.js HTTP/1.1\" 404 -\n",
      "127.0.0.1 - - [29/Mar/2020 12:25:08] \"GET /yellow HTTP/1.1\" 404 -\n",
      "127.0.0.1 - - [29/Mar/2020 12:25:09] \"GET /.js/materialize.js HTTP/1.1\" 404 -\n",
      "127.0.0.1 - - [29/Mar/2020 12:25:09] \"GET /js/init.js HTTP/1.1\" 404 -\n",
      "127.0.0.1 - - [29/Mar/2020 12:25:23] \"POST /predict HTTP/1.1\" 200 -\n",
      "127.0.0.1 - - [29/Mar/2020 12:25:23] \"GET /.js/materialize.js HTTP/1.1\" 404 -\n",
      "127.0.0.1 - - [29/Mar/2020 12:25:23] \"GET /js/init.js HTTP/1.1\" 404 -\n",
      "127.0.0.1 - - [29/Mar/2020 12:25:23] \"GET /yellow HTTP/1.1\" 404 -\n"
     ]
    },
    {
     "name": "stdout",
     "output_type": "stream",
     "text": [
      "[50, 10, 20]\n",
      "[array([50, 10, 20])]\n"
     ]
    }
   ],
   "source": [
    "if __name__ == '__main__':\n",
    "    \n",
    "    app.run(debug=True, use_reloader=False)\n"
   ]
  },
  {
   "cell_type": "code",
   "execution_count": null,
   "metadata": {},
   "outputs": [],
   "source": []
  },
  {
   "cell_type": "code",
   "execution_count": null,
   "metadata": {},
   "outputs": [],
   "source": []
  },
  {
   "cell_type": "code",
   "execution_count": null,
   "metadata": {},
   "outputs": [],
   "source": []
  }
 ],
 "metadata": {
  "kernelspec": {
   "display_name": "Python 3",
   "language": "python",
   "name": "python3"
  },
  "language_info": {
   "codemirror_mode": {
    "name": "ipython",
    "version": 3
   },
   "file_extension": ".py",
   "mimetype": "text/x-python",
   "name": "python",
   "nbconvert_exporter": "python",
   "pygments_lexer": "ipython3",
   "version": "3.7.4"
  }
 },
 "nbformat": 4,
 "nbformat_minor": 4
}
